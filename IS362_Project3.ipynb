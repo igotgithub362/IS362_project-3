{
 "cells": [
  {
   "cell_type": "markdown",
   "id": "74ab08dd",
   "metadata": {},
   "source": [
    "# IS 362 – Project 3  \n",
    "\n",
    "Your assignment involves combining information from a number of SQL tables, \n",
    "then displaying the information in a pandas DataFrame. \n",
    "For your relational database management system, you may use any RDBMS, \n",
    "\n",
    "including MySQL, PostgreSQL, sqlite, or any of the other RDMBSs supported by \n",
    "the database in Step 1 below.   \n",
    "1.  For your database, you should download and install the appropriate version \n",
    "\n",
    "of the Chinook database for your RDBMS, which is available here, under the \n",
    "downloads tab: https://chinookdatabase.codeplex.com/ \n",
    "2.  Your task is to create a pandas DataFrame that displays Customers’ Last \n",
    "Name and First Name, and each customer’s purchased Track names and \n",
    "Album Titles.  The information should be sorted by Customer LastName \n",
    "then Customer FirstName."
   ]
  },
  {
   "cell_type": "markdown",
   "id": "961899c3",
   "metadata": {},
   "source": [
    "Start by importing any modules needed for this assignment as well as an image displaying the sql schema we'll be working with"
   ]
  },
  {
   "cell_type": "code",
   "execution_count": 1,
   "id": "d8804fc3",
   "metadata": {},
   "outputs": [
    {
     "data": {
      "text/html": [
       "<img src=\"http://lh4.ggpht.com/_oKo6zFhdD98/SWFPtyfHJFI/AAAAAAAAAMc/GdrlzeBNsZM/s800/ChinookDatabaseSchema1.1.png\"/>"
      ],
      "text/plain": [
       "<IPython.core.display.Image object>"
      ]
     },
     "execution_count": 1,
     "metadata": {},
     "output_type": "execute_result"
    }
   ],
   "source": [
    "import pandas as pd\n",
    "import sqlite3\n",
    "from IPython.display import Image\n",
    "\n",
    "Image(url='http://lh4.ggpht.com/_oKo6zFhdD98/SWFPtyfHJFI/AAAAAAAAAMc/GdrlzeBNsZM/s800/ChinookDatabaseSchema1.1.png')"
   ]
  },
  {
   "cell_type": "markdown",
   "id": "8624e8c1",
   "metadata": {},
   "source": [
    "Next step involves connecting to the database"
   ]
  },
  {
   "cell_type": "code",
   "execution_count": 2,
   "id": "1f732812",
   "metadata": {},
   "outputs": [],
   "source": [
    "con = sqlite3.connect(\"Chinook_Sqlite.sqlite\")"
   ]
  },
  {
   "cell_type": "markdown",
   "id": "f1d6262a",
   "metadata": {},
   "source": [
    "Now that we've connected to the sqlite database, we'll write a script that will get the exact information that we are looking for"
   ]
  },
  {
   "cell_type": "code",
   "execution_count": 3,
   "id": "1beb43fb",
   "metadata": {},
   "outputs": [],
   "source": [
    "sql = '''SELECT Customer.LastName, Customer.FirstName, Track.Name, Album.Title\n",
    "         FROM Customer\n",
    "         LEFT JOIN Invoice\n",
    "         ON Customer.CustomerId = Invoice.CustomerId\n",
    "         LEFT JOIN InvoiceLine\n",
    "         ON Invoice.InvoiceId = InvoiceLine.InvoiceId\n",
    "         LEFT JOIN Track\n",
    "         ON InvoiceLine.TrackId = Track.TrackId\n",
    "         LEFT JOIN Album\n",
    "         ON Track.AlbumId = Album.AlbumId\n",
    "         ORDER BY Customer.LastName, Customer.FirstName'''"
   ]
  },
  {
   "cell_type": "markdown",
   "id": "bf1d6dce",
   "metadata": {},
   "source": [
    "Now that we've connected to the database, and written the SQL query that will get us the data we need, let's put it all in a pandas DataFrame!"
   ]
  },
  {
   "cell_type": "code",
   "execution_count": 4,
   "id": "e2fcef81",
   "metadata": {},
   "outputs": [
    {
     "data": {
      "text/html": [
       "<div>\n",
       "<style scoped>\n",
       "    .dataframe tbody tr th:only-of-type {\n",
       "        vertical-align: middle;\n",
       "    }\n",
       "\n",
       "    .dataframe tbody tr th {\n",
       "        vertical-align: top;\n",
       "    }\n",
       "\n",
       "    .dataframe thead th {\n",
       "        text-align: right;\n",
       "    }\n",
       "</style>\n",
       "<table border=\"1\" class=\"dataframe\">\n",
       "  <thead>\n",
       "    <tr style=\"text-align: right;\">\n",
       "      <th></th>\n",
       "      <th>LastName</th>\n",
       "      <th>FirstName</th>\n",
       "      <th>Name</th>\n",
       "      <th>Title</th>\n",
       "    </tr>\n",
       "  </thead>\n",
       "  <tbody>\n",
       "    <tr>\n",
       "      <th>0</th>\n",
       "      <td>Almeida</td>\n",
       "      <td>Roberto</td>\n",
       "      <td>Right Next Door to Hell</td>\n",
       "      <td>Use Your Illusion I</td>\n",
       "    </tr>\n",
       "    <tr>\n",
       "      <th>1</th>\n",
       "      <td>Almeida</td>\n",
       "      <td>Roberto</td>\n",
       "      <td>In The Evening</td>\n",
       "      <td>In Through The Out Door</td>\n",
       "    </tr>\n",
       "    <tr>\n",
       "      <th>2</th>\n",
       "      <td>Almeida</td>\n",
       "      <td>Roberto</td>\n",
       "      <td>Fool In The Rain</td>\n",
       "      <td>In Through The Out Door</td>\n",
       "    </tr>\n",
       "    <tr>\n",
       "      <th>3</th>\n",
       "      <td>Almeida</td>\n",
       "      <td>Roberto</td>\n",
       "      <td>Saudade Dos Aviões Da Panair (Conversando No Bar)</td>\n",
       "      <td>Minas</td>\n",
       "    </tr>\n",
       "    <tr>\n",
       "      <th>4</th>\n",
       "      <td>Almeida</td>\n",
       "      <td>Roberto</td>\n",
       "      <td>Caso Você Queira Saber</td>\n",
       "      <td>Minas</td>\n",
       "    </tr>\n",
       "  </tbody>\n",
       "</table>\n",
       "</div>"
      ],
      "text/plain": [
       "  LastName FirstName                                               Name                    Title\n",
       "0  Almeida   Roberto                            Right Next Door to Hell      Use Your Illusion I\n",
       "1  Almeida   Roberto                                     In The Evening  In Through The Out Door\n",
       "2  Almeida   Roberto                                   Fool In The Rain  In Through The Out Door\n",
       "3  Almeida   Roberto  Saudade Dos Aviões Da Panair (Conversando No Bar)                    Minas\n",
       "4  Almeida   Roberto                             Caso Você Queira Saber                    Minas"
      ]
     },
     "execution_count": 4,
     "metadata": {},
     "output_type": "execute_result"
    }
   ],
   "source": [
    "pd.read_sql_query(sql , con=con).head()"
   ]
  },
  {
   "cell_type": "code",
   "execution_count": null,
   "id": "1e80ef16",
   "metadata": {},
   "outputs": [],
   "source": []
  }
 ],
 "metadata": {
  "kernelspec": {
   "display_name": "Python 3",
   "language": "python",
   "name": "python3"
  },
  "language_info": {
   "codemirror_mode": {
    "name": "ipython",
    "version": 3
   },
   "file_extension": ".py",
   "mimetype": "text/x-python",
   "name": "python",
   "nbconvert_exporter": "python",
   "pygments_lexer": "ipython3",
   "version": "3.9.4"
  }
 },
 "nbformat": 4,
 "nbformat_minor": 5
}
